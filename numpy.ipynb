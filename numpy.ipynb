{
  "nbformat": 4,
  "nbformat_minor": 0,
  "metadata": {
    "colab": {
      "provenance": [],
      "authorship_tag": "ABX9TyPI8Zzjhb4dudTKwdfoiqhs",
      "include_colab_link": true
    },
    "kernelspec": {
      "name": "python3",
      "display_name": "Python 3"
    },
    "language_info": {
      "name": "python"
    }
  },
  "cells": [
    {
      "cell_type": "markdown",
      "metadata": {
        "id": "view-in-github",
        "colab_type": "text"
      },
      "source": [
        "<a href=\"https://colab.research.google.com/github/muhammadsabith960-spec/numpy/blob/main/numpy.ipynb\" target=\"_parent\"><img src=\"https://colab.research.google.com/assets/colab-badge.svg\" alt=\"Open In Colab\"/></a>"
      ]
    },
    {
      "cell_type": "code",
      "execution_count": null,
      "metadata": {
        "colab": {
          "base_uri": "https://localhost:8080/"
        },
        "id": "8yWyzSoMFTLT",
        "outputId": "7bfc6611-5fe9-4b60-b794-36e7570c8668"
      },
      "outputs": [
        {
          "output_type": "stream",
          "name": "stdout",
          "text": [
            "['1' '2' '3' '4' 'a']\n"
          ]
        }
      ],
      "source": [
        "import numpy as np # numerical python\n",
        "\n",
        "#array = collection of data with same datatype(Homogenious)\n",
        "\n",
        "#a=np.array([1,2,3.0,4])\n",
        "a=np.array([1,2,3,4,\"a\"])\n",
        "print(a)\n"
      ]
    },
    {
      "cell_type": "code",
      "source": [
        "#slicing forward slicing backward slicing\n",
        "\n",
        "b=np.array([1,2,3,4,5,6])\n",
        "#print(1,2)\n",
        "print(b[0:2])\n",
        "#print(5,4)\n",
        "print(b[-1:-3:-1])\n",
        "\n",
        "#print(4,5)\n",
        "print(b[3:])\n",
        "#print(2,1)\n",
        "print(b[-5::-1])"
      ],
      "metadata": {
        "colab": {
          "base_uri": "https://localhost:8080/"
        },
        "id": "eoHxuhEcHPmk",
        "outputId": "7c99b9c8-d948-4aff-8972-b769664ec6c4"
      },
      "execution_count": null,
      "outputs": [
        {
          "output_type": "stream",
          "name": "stdout",
          "text": [
            "[1 2]\n",
            "[6 5]\n",
            "[4 5 6]\n",
            "[2 1]\n"
          ]
        }
      ]
    },
    {
      "cell_type": "code",
      "source": [
        "#diamension\n",
        "\n",
        "a=np.array([1,2,3,4,5])\n",
        "b=np.array([[1,2],[3,4]])\n",
        "a.ndim  #dimenesion=1 vector\n",
        "b.ndim #diamension= 2 matrix\n",
        "print(b)\n",
        "print(a)\n",
        "b.shape # to find shape"
      ],
      "metadata": {
        "colab": {
          "base_uri": "https://localhost:8080/"
        },
        "id": "9PsZfQftJLhp",
        "outputId": "7cf22c27-27e3-4eac-e872-bd56518599f2"
      },
      "execution_count": null,
      "outputs": [
        {
          "output_type": "stream",
          "name": "stdout",
          "text": [
            "[[1 2]\n",
            " [3 4]]\n",
            "[1 2 3 4 5]\n"
          ]
        },
        {
          "output_type": "execute_result",
          "data": {
            "text/plain": [
              "(2, 2)"
            ]
          },
          "metadata": {},
          "execution_count": 12
        }
      ]
    },
    {
      "cell_type": "code",
      "source": [
        "#create a 2x2 matrix 2,3,4,5\n",
        "\n",
        "a=np.array([[2,3],[4,5]])\n",
        "print(a)\n",
        "\n",
        "print(a.shape)\n",
        "print(a.ndim) # to indetify diamension\n",
        "print(a.size) #total number of elements"
      ],
      "metadata": {
        "colab": {
          "base_uri": "https://localhost:8080/"
        },
        "id": "oJ0Wli8SKacU",
        "outputId": "871ecd4b-402f-4dc2-c478-fffe8881ea12"
      },
      "execution_count": null,
      "outputs": [
        {
          "output_type": "stream",
          "name": "stdout",
          "text": [
            "[[2 3]\n",
            " [4 5]]\n",
            "(2, 2)\n",
            "2\n",
            "4\n"
          ]
        }
      ]
    },
    {
      "cell_type": "code",
      "source": [
        "#create a 2x3 matrix and print,size,shape,diamension\n",
        "\n",
        "a=np.array([[1,2,3],[4,5,6]])\n",
        "print(a)\n",
        "print(a.size)\n",
        "print(a.shape)\n",
        "print(a.ndim)"
      ],
      "metadata": {
        "colab": {
          "base_uri": "https://localhost:8080/"
        },
        "id": "iLNhwZ8yLeZQ",
        "outputId": "18b6c647-403e-4493-da99-20e82586c05f"
      },
      "execution_count": null,
      "outputs": [
        {
          "output_type": "stream",
          "name": "stdout",
          "text": [
            "[[1 2 3]\n",
            " [4 5 6]]\n",
            "6\n",
            "(2, 3)\n",
            "2\n"
          ]
        }
      ]
    },
    {
      "cell_type": "code",
      "source": [
        "# create 4x2 matrix display its size shape diamension\n",
        "a=np.array([[1,2],[3,4],[5,6],[7,8]])\n",
        "print(a)\n",
        "print(a.shape)\n",
        "print(a.size)\n",
        "print(a.ndim)"
      ],
      "metadata": {
        "colab": {
          "base_uri": "https://localhost:8080/"
        },
        "id": "-tawduEeMVfo",
        "outputId": "cee2700e-2641-4733-8f38-b38907578ae6"
      },
      "execution_count": null,
      "outputs": [
        {
          "output_type": "stream",
          "name": "stdout",
          "text": [
            "[[1 2]\n",
            " [3 4]\n",
            " [5 6]\n",
            " [7 8]]\n",
            "(4, 2)\n",
            "8\n",
            "2\n"
          ]
        }
      ]
    },
    {
      "cell_type": "code",
      "source": [
        "#create a 4x4 matrix display its size shape diamenstion\n",
        "import numpy as np\n",
        "\n",
        "a=np.array([[1,2,3,4,],[6,7,8,9],[9,8,4,2],[2,3,5,6]])\n",
        "print(a)\n",
        "print(a.shape)\n",
        "print(a.size)\n",
        "print(a.ndim)"
      ],
      "metadata": {
        "colab": {
          "base_uri": "https://localhost:8080/"
        },
        "id": "wqbAMSCJNZ-o",
        "outputId": "886853e5-2fbb-45c1-b189-1adb0a3f5fa5"
      },
      "execution_count": null,
      "outputs": [
        {
          "output_type": "stream",
          "name": "stdout",
          "text": [
            "[[1 2 3 4]\n",
            " [6 7 8 9]\n",
            " [9 8 4 2]\n",
            " [2 3 5 6]]\n",
            "(4, 4)\n",
            "16\n",
            "2\n"
          ]
        }
      ]
    },
    {
      "cell_type": "code",
      "source": [
        "a[0]\n",
        "\n",
        "print(a[:,0]) #first row then column\n",
        "a[1,1]\n",
        "a[2,2]\n",
        "a[3,2:]\n",
        "a[2:,2:]\n",
        "a[2:,1:3]\n",
        "a[1:3,3]\n",
        "a[1:3,0:3]\n",
        "a[0:,0:]\n",
        "\n"
      ],
      "metadata": {
        "colab": {
          "base_uri": "https://localhost:8080/"
        },
        "id": "RAxb7jG_FYF9",
        "outputId": "0b87a8de-6761-4f5c-c487-615c5e502192"
      },
      "execution_count": null,
      "outputs": [
        {
          "output_type": "stream",
          "name": "stdout",
          "text": [
            "[1 6 9 2]\n"
          ]
        },
        {
          "output_type": "execute_result",
          "data": {
            "text/plain": [
              "array([[1, 2, 3, 4],\n",
              "       [6, 7, 8, 9],\n",
              "       [9, 8, 4, 2],\n",
              "       [2, 3, 5, 6]])"
            ]
          },
          "metadata": {},
          "execution_count": 14
        }
      ]
    },
    {
      "cell_type": "code",
      "source": [
        "#zero martix\n",
        "z=np.zeros([2,3,3],dtype=int) #which means covert into integer,#complex means to convert equation martix\n",
        "print(z)"
      ],
      "metadata": {
        "colab": {
          "base_uri": "https://localhost:8080/"
        },
        "id": "PeeR5ZEjJr4X",
        "outputId": "2a21f52e-c459-4481-a71d-4561524a8401"
      },
      "execution_count": null,
      "outputs": [
        {
          "output_type": "stream",
          "name": "stdout",
          "text": [
            "[[[0 0 0]\n",
            "  [0 0 0]\n",
            "  [0 0 0]]\n",
            "\n",
            " [[0 0 0]\n",
            "  [0 0 0]\n",
            "  [0 0 0]]]\n"
          ]
        }
      ]
    },
    {
      "cell_type": "code",
      "source": [
        "#one matrix\n",
        "z=np.ones([3,3],dtype=int)\n",
        "print(z)"
      ],
      "metadata": {
        "colab": {
          "base_uri": "https://localhost:8080/"
        },
        "id": "wh545D5rKeDR",
        "outputId": "f9d45d01-433a-4c12-c941-bd6de08fada4"
      },
      "execution_count": null,
      "outputs": [
        {
          "output_type": "stream",
          "name": "stdout",
          "text": [
            "[[1 1 1]\n",
            " [1 1 1]\n",
            " [1 1 1]]\n"
          ]
        }
      ]
    },
    {
      "cell_type": "code",
      "source": [
        "#create two 2x2 matrix\n",
        "a=np.array([[1,2],[3,4]])\n",
        "b=np.array([[3,1],[6,7]])\n",
        "print(a)\n",
        "print(b)"
      ],
      "metadata": {
        "colab": {
          "base_uri": "https://localhost:8080/"
        },
        "id": "MY8R_MDWKydP",
        "outputId": "30484ab6-8e66-46c6-b21f-92a1ca16a526"
      },
      "execution_count": null,
      "outputs": [
        {
          "output_type": "stream",
          "name": "stdout",
          "text": [
            "[[1 2]\n",
            " [3 4]]\n",
            "[[3 1]\n",
            " [6 7]]\n"
          ]
        }
      ]
    },
    {
      "cell_type": "code",
      "source": [
        "#matrix addition\n",
        "print(a+b)\n",
        "\n",
        "#matrix substraction\n",
        "print(a-b)\n",
        "\n",
        "#marix multiplication\n",
        "\n",
        "print(a*b) #not a ,matrix  multiplication\n",
        "\n",
        "\n",
        "print(a@b) # this is matrix multiplication\n",
        "\n",
        "print(a.dot(b))#matrix  multiplication\n",
        "\n",
        "#marix division\n",
        "\n",
        "print(a/b)\n",
        "\n",
        "#magic__add__ it is called by magic\n"
      ],
      "metadata": {
        "colab": {
          "base_uri": "https://localhost:8080/"
        },
        "id": "L1n01LtXLleD",
        "outputId": "b092a8d3-e2d0-4ff5-b485-6611a965a97f"
      },
      "execution_count": null,
      "outputs": [
        {
          "output_type": "stream",
          "name": "stdout",
          "text": [
            "[[ 4  3]\n",
            " [ 9 11]]\n",
            "[[-2  1]\n",
            " [-3 -3]]\n",
            "[[ 3  2]\n",
            " [18 28]]\n",
            "[[15 15]\n",
            " [33 31]]\n",
            "[[15 15]\n",
            " [33 31]]\n",
            "[[0.33333333 2.        ]\n",
            " [0.5        0.57142857]]\n"
          ]
        }
      ]
    },
    {
      "cell_type": "code",
      "source": [
        "#full matrix\n",
        "\n",
        "z=np.full([3,3],4,dtype=int)\n",
        "print(z)"
      ],
      "metadata": {
        "colab": {
          "base_uri": "https://localhost:8080/"
        },
        "id": "zSDzeWgQNyVc",
        "outputId": "b3b7bfc8-cde3-4f87-ae95-ed9526154ef6"
      },
      "execution_count": null,
      "outputs": [
        {
          "output_type": "stream",
          "name": "stdout",
          "text": [
            "[[4 4 4]\n",
            " [4 4 4]\n",
            " [4 4 4]]\n"
          ]
        }
      ]
    },
    {
      "cell_type": "code",
      "source": [
        "#create a 3x4 matrix with Value 9 and datatype complex\n",
        "z=np.full([3,4],9,dtype=complex)\n",
        "print(z)"
      ],
      "metadata": {
        "colab": {
          "base_uri": "https://localhost:8080/"
        },
        "id": "xAdXjeicOZrv",
        "outputId": "efa5fe61-702f-4fcb-ac26-3c49fa9e5fe9"
      },
      "execution_count": null,
      "outputs": [
        {
          "output_type": "stream",
          "name": "stdout",
          "text": [
            "[[9.+0.j 9.+0.j 9.+0.j 9.+0.j]\n",
            " [9.+0.j 9.+0.j 9.+0.j 9.+0.j]\n",
            " [9.+0.j 9.+0.j 9.+0.j 9.+0.j]]\n"
          ]
        }
      ]
    },
    {
      "cell_type": "code",
      "source": [
        "#identity matrix\n",
        "#z=np.identity(3,dtype=int)\n",
        "#print(z)\n",
        "\n",
        "z=np.eye(3,dtype=int) # two types to print indetity matrix\n",
        "print(z)"
      ],
      "metadata": {
        "colab": {
          "base_uri": "https://localhost:8080/"
        },
        "id": "UmhAO7SQO-pA",
        "outputId": "69a8e74f-545a-450b-b7a2-0b5e3ea73307"
      },
      "execution_count": null,
      "outputs": [
        {
          "output_type": "stream",
          "name": "stdout",
          "text": [
            "[[1 0 0]\n",
            " [0 1 0]\n",
            " [0 0 1]]\n"
          ]
        }
      ]
    },
    {
      "cell_type": "code",
      "source": [
        "#create a 4x4 matrix\n",
        "y=np.array([[1,2,3,4],[5,6,7,8,],[3,4,5,6],[9,8,7,6]])\n",
        "print(y)\n",
        "print(y.size)"
      ],
      "metadata": {
        "colab": {
          "base_uri": "https://localhost:8080/"
        },
        "id": "SFq8wioHQxAE",
        "outputId": "be096115-60ef-455c-e58d-376f7800af07"
      },
      "execution_count": null,
      "outputs": [
        {
          "output_type": "stream",
          "name": "stdout",
          "text": [
            "[[1 2 3 4]\n",
            " [5 6 7 8]\n",
            " [3 4 5 6]\n",
            " [9 8 7 6]]\n",
            "16\n"
          ]
        }
      ]
    },
    {
      "cell_type": "code",
      "source": [
        "a=y.reshape(16,1)\n",
        "print(a)"
      ],
      "metadata": {
        "colab": {
          "base_uri": "https://localhost:8080/"
        },
        "id": "6eOk7-pARmz_",
        "outputId": "673d6392-bfcd-4faf-e245-e2bbfdc54e0f"
      },
      "execution_count": null,
      "outputs": [
        {
          "output_type": "stream",
          "name": "stdout",
          "text": [
            "[[1]\n",
            " [2]\n",
            " [3]\n",
            " [4]\n",
            " [5]\n",
            " [6]\n",
            " [7]\n",
            " [8]\n",
            " [3]\n",
            " [4]\n",
            " [5]\n",
            " [6]\n",
            " [9]\n",
            " [8]\n",
            " [7]\n",
            " [6]]\n"
          ]
        }
      ]
    },
    {
      "cell_type": "code",
      "source": [
        "#arange\n",
        "a=np.arange(1,10,2)\n",
        "print(a)"
      ],
      "metadata": {
        "colab": {
          "base_uri": "https://localhost:8080/"
        },
        "id": "hPl9ES7iSFfS",
        "outputId": "70299697-d23a-4034-f312-bd4abc196518"
      },
      "execution_count": null,
      "outputs": [
        {
          "output_type": "stream",
          "name": "stdout",
          "text": [
            "[1 3 5 7 9]\n"
          ]
        }
      ]
    },
    {
      "cell_type": "code",
      "source": [
        "#create a 5x2 matrix using arange\n",
        "a=np.arange(1,11).reshape(5,2)\n",
        "print(a)"
      ],
      "metadata": {
        "colab": {
          "base_uri": "https://localhost:8080/"
        },
        "id": "HnamC7-gSgh9",
        "outputId": "5a987705-c2e4-48be-c420-8983bf8b0e7f"
      },
      "execution_count": null,
      "outputs": [
        {
          "output_type": "stream",
          "name": "stdout",
          "text": [
            "[[ 1  2]\n",
            " [ 3  4]\n",
            " [ 5  6]\n",
            " [ 7  8]\n",
            " [ 9 10]]\n"
          ]
        }
      ]
    },
    {
      "cell_type": "code",
      "source": [
        "#create a 3x3 matrix with float values\n",
        "a=np.array([[1.4,2.1,3.5],[4.2,8.5,3.1],[9.6,5.4,4.2]])\n",
        "print(a)"
      ],
      "metadata": {
        "colab": {
          "base_uri": "https://localhost:8080/"
        },
        "id": "UoxZWFYpTPeS",
        "outputId": "10d48977-6279-4dc6-a85f-a0697bb918ed"
      },
      "execution_count": null,
      "outputs": [
        {
          "output_type": "stream",
          "name": "stdout",
          "text": [
            "[[1.4 2.1 3.5]\n",
            " [4.2 8.5 3.1]\n",
            " [9.6 5.4 4.2]]\n"
          ]
        }
      ]
    },
    {
      "cell_type": "code",
      "source": [
        "#floor\n",
        "z=np.floor(a)\n",
        "print(z)"
      ],
      "metadata": {
        "colab": {
          "base_uri": "https://localhost:8080/"
        },
        "id": "w3fo1QwHUuDD",
        "outputId": "5f00fbf1-b521-487a-d353-1260790f84ba"
      },
      "execution_count": null,
      "outputs": [
        {
          "output_type": "stream",
          "name": "stdout",
          "text": [
            "[[1. 2. 3.]\n",
            " [4. 8. 3.]\n",
            " [9. 5. 4.]]\n"
          ]
        }
      ]
    },
    {
      "cell_type": "code",
      "source": [
        "#ceil\n",
        "z=np.ceil(a)\n",
        "print(z)"
      ],
      "metadata": {
        "colab": {
          "base_uri": "https://localhost:8080/"
        },
        "id": "27Jz2zBmVLRc",
        "outputId": "25993a2d-4982-4472-ebe6-ee23e5a8fab0"
      },
      "execution_count": null,
      "outputs": [
        {
          "output_type": "stream",
          "name": "stdout",
          "text": [
            "[[ 2.  3.  4.]\n",
            " [ 5.  9.  4.]\n",
            " [10.  6.  5.]]\n"
          ]
        }
      ]
    },
    {
      "cell_type": "code",
      "source": [
        "#round\n",
        "\n",
        "z=np.round(a)    #round  to come 2.5 then go to even numbers\n",
        "print(z)"
      ],
      "metadata": {
        "colab": {
          "base_uri": "https://localhost:8080/"
        },
        "id": "Hxief1gbVwOd",
        "outputId": "5ce6a69d-dec9-4aef-8195-8d1b4c5ebdb6"
      },
      "execution_count": null,
      "outputs": [
        {
          "output_type": "stream",
          "name": "stdout",
          "text": [
            "[[ 1.  2.  4.]\n",
            " [ 4.  8.  3.]\n",
            " [10.  5.  4.]]\n"
          ]
        }
      ]
    },
    {
      "cell_type": "code",
      "source": [
        "#create a 3x3 ,matrix\n",
        "import numpy as np\n",
        "\n",
        "a=np.arange(1,10).reshape(3,3)\n",
        "print(a)\n",
        "\n",
        "a.max()\n",
        "a.max(axis=1) #numpy=(1,row & 0,column)\n",
        "a.max(axis=0) #pandas =(0,row & 1,column)\n",
        "a.min()\n",
        "a.min(axis=1)\n",
        "a.min(axis=0)\n",
        "a.sum()\n",
        "a.sum(axis=1)\n",
        "a.sum(axis=0)\n",
        "np.sqrt(a)  #each element find the root\n",
        "np.sin(a) #to get cost of each elements\n",
        "np.tan(a) # to get tan of each elemnets\n"
      ],
      "metadata": {
        "colab": {
          "base_uri": "https://localhost:8080/"
        },
        "id": "4RrjUp-PXM-Y",
        "outputId": "f6909119-7072-4d68-e4ad-18086882de55"
      },
      "execution_count": 9,
      "outputs": [
        {
          "output_type": "stream",
          "name": "stdout",
          "text": [
            "[[1 2 3]\n",
            " [4 5 6]\n",
            " [7 8 9]]\n"
          ]
        },
        {
          "output_type": "execute_result",
          "data": {
            "text/plain": [
              "array([[ 1.55740772, -2.18503986, -0.14254654],\n",
              "       [ 1.15782128, -3.38051501, -0.29100619],\n",
              "       [ 0.87144798, -6.79971146, -0.45231566]])"
            ]
          },
          "metadata": {},
          "execution_count": 9
        }
      ]
    },
    {
      "cell_type": "markdown",
      "source": [
        "day 3"
      ],
      "metadata": {
        "id": "41gJudW5i716"
      }
    },
    {
      "cell_type": "code",
      "source": [
        "#flatten()\n",
        "\n",
        "a.flatten() #to convert into one diamensional array\n",
        "\n",
        "\n",
        "#sorting\n",
        "\n",
        "#create a 3x3 matrix\n",
        "\n",
        "a=np.array([[3,4,1],[5,3,1],[6,9,8]])\n",
        "a.ndim\n",
        "print(a)\n",
        "\n",
        "b=np.sort(a,axis=0) #sorting method\n",
        "\n",
        "print(b)\n",
        "\n",
        "c=np.argsort(a,axis=1) #arg (index basic to working function)\n",
        "print(c)\n"
      ],
      "metadata": {
        "colab": {
          "base_uri": "https://localhost:8080/"
        },
        "id": "912vaMyUi7K_",
        "outputId": "df4ab56e-6a85-4618-f308-ad31c0c87fef"
      },
      "execution_count": 19,
      "outputs": [
        {
          "output_type": "stream",
          "name": "stdout",
          "text": [
            "[[3 4 1]\n",
            " [5 3 1]\n",
            " [6 9 8]]\n",
            "[[3 3 1]\n",
            " [5 4 1]\n",
            " [6 9 8]]\n",
            "[[2 0 1]\n",
            " [2 1 0]\n",
            " [0 2 1]]\n"
          ]
        }
      ]
    }
  ]
}